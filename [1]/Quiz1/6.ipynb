{
 "cells": [
  {
   "cell_type": "code",
   "execution_count": null,
   "metadata": {},
   "outputs": [],
   "source": [
    "import pandas as pd\n",
    "import numpy as np"
   ]
  },
  {
   "cell_type": "code",
   "execution_count": 4,
   "metadata": {},
   "outputs": [],
   "source": [
    "df = pd.read_excel(\"./data/Quiz1-Student Version_Questions2,4,5,6_Main_Dataset.xlsx\")"
   ]
  },
  {
   "cell_type": "code",
   "execution_count": null,
   "metadata": {},
   "outputs": [
    {
     "name": "stdout",
     "output_type": "stream",
     "text": [
      "Compute a mean: 52.28\n"
     ]
    }
   ],
   "source": [
    "#6.1 \n",
    "mean = df['Corruption level Rating Score (0-100)'].mean().round(2)\n",
    "print(\"Compute a mean:\", mean)"
   ]
  },
  {
   "cell_type": "code",
   "execution_count": null,
   "metadata": {},
   "outputs": [
    {
     "name": "stdout",
     "output_type": "stream",
     "text": [
      "Compute a standard error for Clusteting Random Sampling: 4.62\n"
     ]
    }
   ],
   "source": [
    "#6.2\n",
    "df['Y'] = (df['Corruption level Rating Score (0-100)']-mean)**2\n",
    "clusters = ['Canada', 'USA', 'Columbia', 'Brazil', 'Spain', 'France', 'Uzbekistan', 'Kazakhstan']\n",
    "shc_values = []\n",
    "\n",
    "for cluster in clusters:\n",
    "    shc = df[df['Cluster'] == cluster]['Y'].sum() / 3\n",
    "    shc_values.append(shc)\n",
    "\n",
    "import math\n",
    "SE_with_clustering = sum((0.125**2 * shc / 4) for shc in shc_values)\n",
    "\n",
    "SE_with_clustering = math.sqrt(SE_with_clustering)\n",
    "print(\"Compute a standard error for Clusteting Random Sampling:\", round(SE_with_clustering, 2))"
   ]
  },
  {
   "cell_type": "code",
   "execution_count": 31,
   "metadata": {},
   "outputs": [
    {
     "name": "stdout",
     "output_type": "stream",
     "text": [
      "Compute d-value: 1.14\n"
     ]
    }
   ],
   "source": [
    "#6.3\n",
    "standart_error_srs = df['Corruption level Rating Score (0-100)'].sem()\n",
    "d_value = round(SE_with_clustering / standart_error_srs, 2)\n",
    "\n",
    "print(\"Compute d-value:\", d_value)"
   ]
  },
  {
   "cell_type": "code",
   "execution_count": 32,
   "metadata": {},
   "outputs": [
    {
     "name": "stdout",
     "output_type": "stream",
     "text": [
      "Compute d-squared: 1.3\n"
     ]
    }
   ],
   "source": [
    "#6.4 \n",
    "d_squared = round(d_value**2, 2)\n",
    "print(\"Compute d-squared:\", d_squared)"
   ]
  },
  {
   "cell_type": "code",
   "execution_count": null,
   "metadata": {},
   "outputs": [
    {
     "name": "stdout",
     "output_type": "stream",
     "text": [
      "Compute roh: 0.97\n"
     ]
    }
   ],
   "source": [
    "#6.5\n",
    "# Compute roh\n",
    "roh = (d_squared - 1 / 3)\n",
    "print(\"Compute roh:\", roh.round(2))"
   ]
  },
  {
   "cell_type": "code",
   "execution_count": 30,
   "metadata": {},
   "outputs": [
    {
     "name": "stdout",
     "output_type": "stream",
     "text": [
      "Neff: 24.62\n"
     ]
    }
   ],
   "source": [
    "#6.6\n",
    "neff = round(len(df)/d_squared, 2)\n",
    "\n",
    "print(\"Neff:\", neff)"
   ]
  }
 ],
 "metadata": {
  "kernelspec": {
   "display_name": "Python 3",
   "language": "python",
   "name": "python3"
  },
  "language_info": {
   "codemirror_mode": {
    "name": "ipython",
    "version": 3
   },
   "file_extension": ".py",
   "mimetype": "text/x-python",
   "name": "python",
   "nbconvert_exporter": "python",
   "pygments_lexer": "ipython3",
   "version": "3.13.2"
  }
 },
 "nbformat": 4,
 "nbformat_minor": 2
}
