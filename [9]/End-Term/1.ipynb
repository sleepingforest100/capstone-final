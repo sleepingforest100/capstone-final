{
 "cells": [
  {
   "cell_type": "markdown",
   "metadata": {},
   "source": [
    "| Desctiption | Test Type |\n",
    "|-------------|-----------|\n",
    "| This evaluates non-functional aspects such as reliability, performance, load handling, and accountability of the software. | `Non-Functional Testing` |\n",
    "| This ensures the software system meets the specified functional requirements | `Functional Testing` |\n",
    "| This measures the system’s performance as the number of user requests increases or decreases | `Scalability Testing` |\n",
    "| This involves testing software based on the client’s requirements without the use of any automation tools. | `Manual Testing` |\n",
    "| This approach tests the software’s functionalities without any knowledge of its internal code, paths, or implementation details. | `Black Box Testing` |\n",
    "| This type of testing focuses on individual units or components of the software. | `Unit Testing` |\n",
    "| This involves logically integrating and testing multiple software modules as a group. | `Integration Testing` |\n",
    "| This ensures the application performs well consistently over an acceptable period. | `Stability Testing` |\n",
    "| This refers to testing software using automation tools to meet the client’s needs. | `Automation Testing` |\n",
    "| This method involves partial knowledge of the internal structure of the application, aiming to identify defects caused by improper code or application usage. | `Grey Box Testing` |\n",
    "| This method tests lower-level modules first, using test drivers to pass data from higher to lower levels. | `Bottom-Up Testing` |\n",
    "| This validates the fully integrated software product. | `System Testing` |\n",
    "| This evaluates the software’s performance under expected load conditions | `Load Testing` |\n",
    "| This testing method examines the internal structure, design, data structures, code, and functionality of the software. | `White Box Testing` |\n",
    "| This combines data from one module with all other modules to test data flow between them | `Non-Incremental Testing` |\n",
    "| This method integrates modules one by one to identify defects during development | `Incremental Testing` |\n",
    "| Also known as User Experience Testing, it checks how user-friendly and easy to use the software is | `Usability Testing` |\n",
    "| This verifies the software’s stability and reliability under extreme conditions. | `Stress Testing` |\n",
    "| This non-functional testing ensures the software operates correctly across different hardware, operating systems, applications, network environments, or mobile devices. | `Compatability Testing` |\n",
    "| This approach tests higher-level modules first, using stubs for any undeveloped submodules | `Top-Down Testing` |\n",
    "| This assesses the speed, response time, stability, reliability, scalability, and resource usage of the software under specific workloads. | `Performance Testing` |\n",
    "\n"
   ]
  }
 ],
 "metadata": {
  "language_info": {
   "name": "python"
  }
 },
 "nbformat": 4,
 "nbformat_minor": 2
}
