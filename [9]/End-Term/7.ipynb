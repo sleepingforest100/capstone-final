{
 "cells": [
  {
   "cell_type": "code",
   "execution_count": 30,
   "metadata": {},
   "outputs": [],
   "source": [
    "# car_rental.py\n",
    "class Car:\n",
    "    def __init__(self, car_id, model, rental_price):\n",
    "        self.car_id = car_id\n",
    "        self.model = model\n",
    "        self.rental_price = rental_price\n",
    "        self.available = True\n",
    "    def rent(self):\n",
    "        \"\"\"Mark the car as rented if it is available.\"\"\"\n",
    "        if not self.available:\n",
    "            raise Exception(\"Car is not available\")\n",
    "        self.available = False\n",
    "    def return_car(self):\n",
    "        \"\"\"Mark the car as available if it is currently rented.\"\"\"\n",
    "        if self.available:\n",
    "            raise Exception(\"Car is already available\")\n",
    "        self.available = True\n",
    "\n",
    "class CarRentalSystem:\n",
    "    def __init__(self):\n",
    "        # Use a dictionary to manage cars by their unique car_id.\n",
    "        self.cars = {}\n",
    "    def add_car(self, car: Car):\n",
    "        \"\"\"Add a new car to the system.\"\"\"\n",
    "        if car.car_id in self.cars:\n",
    "            raise Exception(\"Car already exists\")\n",
    "        self.cars[car.car_id] = car\n",
    "    def remove_car(self, car_id):\n",
    "        \"\"\"Remove a car from the system.\"\"\"\n",
    "        if car_id not in self.cars:\n",
    "            raise Exception(\"Car not found\")\n",
    "        del self.cars[car_id]\n",
    "    def rent_car(self, car_id):\n",
    "        \"\"\"Rent a car by its id.\"\"\"\n",
    "        if car_id not in self.cars:\n",
    "            raise Exception(\"Car not found\")\n",
    "        car = self.cars[car_id]\n",
    "        car.rent()\n",
    "        return car\n",
    "    def return_car(self, car_id):\n",
    "        \"\"\"Return a rented car by its id.\"\"\"\n",
    "        if car_id not in self.cars:\n",
    "            raise Exception(\"Car not found\")\n",
    "        car = self.cars[car_id]\n",
    "        car.return_car()\n",
    "        return car\n",
    "    def available_cars(self):\n",
    "        \"\"\"Return a list of all available cars.\"\"\"\n",
    "        return [car for car in self.cars.values() if car.available]"
   ]
  },
  {
   "cell_type": "markdown",
   "metadata": {},
   "source": [
    "### Test Cases"
   ]
  },
  {
   "cell_type": "code",
   "execution_count": 31,
   "metadata": {},
   "outputs": [],
   "source": [
    "# test_car_rental.py\n",
    "\n",
    "import unittest\n",
    "import time"
   ]
  },
  {
   "cell_type": "markdown",
   "metadata": {},
   "source": [
    "### A =  → Unit Test"
   ]
  },
  {
   "cell_type": "code",
   "execution_count": 32,
   "metadata": {},
   "outputs": [],
   "source": [
    "class TestCar(unittest.TestCase):\n",
    "    def setUp(self):\n",
    "        self.car = Car(car_id=1, model=\"Toyota Camry\", rental_price=50)\n",
    "    def test_rent_car(self):\n",
    "        self.assertTrue(self.car.available)\n",
    "        self.car.rent()\n",
    "        self.assertFalse(self.car.available)\n",
    "    def test_return_car(self):\n",
    "        self.car.rent()\n",
    "        self.car.return_car()\n",
    "        self.assertTrue(self.car.available)\n",
    "    def test_rent_unavailable_car(self):\n",
    "        self.car.rent()\n",
    "        with self.assertRaises(Exception) as context:\n",
    "            self.car.rent()\n",
    "        self.assertIn(\"Car is not available\", str(context.exception))\n",
    "    def test_return_already_available_car(self):\n",
    "        with self.assertRaises(Exception) as context:\n",
    "            self.car.return_car()\n",
    "        self.assertIn(\"Car is already available\", str(context.exception))\n",
    "     \n",
    "class TestCarRentalSystem(unittest.TestCase):\n",
    "    def setUp(self):\n",
    "        self.system = CarRentalSystem()\n",
    "        self.car1 = Car(car_id=1, model=\"Toyota Camry\", rental_price=50)\n",
    "        self.car2 = Car(car_id=2, model=\"Honda Accord\", rental_price=55)\n",
    "        self.system.add_car(self.car1)\n",
    "        self.system.add_car(self.car2)\n",
    "    def test_add_car(self):\n",
    "        with self.assertRaises(Exception):\n",
    "            self.system.add_car(self.car1)\n",
    "    def test_remove_car(self):\n",
    "        self.system.remove_car(self.car1.car_id)\n",
    "        with self.assertRaises(Exception):\n",
    "            self.system.rent_car(self.car1.car_id)\n",
    "    def test_rent_car(self):\n",
    "        rented_car = self.system.rent_car(self.car1.car_id)\n",
    "        self.assertFalse(rented_car.available)\n",
    "    def test_return_car(self):\n",
    "        self.system.rent_car(self.car2.car_id)\n",
    "        returned_car = self.system.return_car(self.car2.car_id)\n",
    "        self.assertTrue(returned_car.available)\n",
    "    def test_available_cars(self):\n",
    "        self.system.rent_car(self.car1.car_id)\n",
    "        available = self.system.available_cars()\n",
    "        self.assertEqual(len(available), 1)\n",
    "        self.assertEqual(available[0].car_id, self.car2.car_id)"
   ]
  },
  {
   "cell_type": "markdown",
   "metadata": {},
   "source": [
    "### B =  → Regression Test"
   ]
  },
  {
   "cell_type": "code",
   "execution_count": 33,
   "metadata": {},
   "outputs": [],
   "source": [
    "class TestB(unittest.TestCase):\n",
    "    def setUp(self):\n",
    "        self.system = CarRentalSystem()\n",
    "        self.car = Car(car_id=3, model=\"Ford Mustang\", rental_price=100)\n",
    "        self.system.add_car(self.car)\n",
    "    def test_B_rent_already_rented_car(self):\n",
    "        self.system.rent_car(self.car.car_id)\n",
    "        with self.assertRaises(Exception) as context:\n",
    "            self.system.rent_car(self.car.car_id)\n",
    "        self.assertIn(\"Car is not available\", str(context.exception))"
   ]
  },
  {
   "cell_type": "markdown",
   "metadata": {},
   "source": [
    "### C =  → Integration Test"
   ]
  },
  {
   "cell_type": "code",
   "execution_count": 34,
   "metadata": {},
   "outputs": [],
   "source": [
    "class TestC(unittest.TestCase):\n",
    "    def test_full_workflow(self):\n",
    "        system = CarRentalSystem()\n",
    "        car1 = Car(car_id=1, model=\"Toyota Camry\", rental_price=50)\n",
    "        car2 = Car(car_id=2, model=\"Honda Accord\", rental_price=55)\n",
    "        car3 = Car(car_id=3, model=\"Ford Focus\", rental_price=45)\n",
    "        system.add_car(car1)\n",
    "        system.add_car(car2)\n",
    "        system.add_car(car3)\n",
    "        system.rent_car(car1.car_id)\n",
    "        available = system.available_cars()\n",
    "        self.assertEqual(len(available), 2)\n",
    "        system.return_car(car1.car_id)\n",
    "        available = system.available_cars()\n",
    "        self.assertEqual(len(available), 3)\n",
    "        system.remove_car(car2.car_id)\n",
    "        available = system.available_cars()\n",
    "        self.assertEqual(len(available), 2)"
   ]
  },
  {
   "cell_type": "markdown",
   "metadata": {},
   "source": [
    "### D =  → Functional Test"
   ]
  },
  {
   "cell_type": "code",
   "execution_count": 35,
   "metadata": {},
   "outputs": [],
   "source": [
    "class TestD(unittest.TestCase):\n",
    "    def test_user_workflow(self):\n",
    "        system = CarRentalSystem()\n",
    "        car = Car(car_id=10, model=\"Chevrolet Malibu\", rental_price=60)\n",
    "        system.add_car(car)\n",
    "        self.assertEqual(len(system.available_cars()), 1)\n",
    "        system.rent_car(car.car_id)\n",
    "        self.assertEqual(len(system.available_cars()), 0)\n",
    "        system.return_car(car.car_id)\n",
    "        self.assertEqual(len(system.available_cars()), 1)"
   ]
  },
  {
   "cell_type": "markdown",
   "metadata": {},
   "source": [
    "### E =  → Performance Test"
   ]
  },
  {
   "cell_type": "code",
   "execution_count": 36,
   "metadata": {},
   "outputs": [],
   "source": [
    "class TestE(unittest.TestCase):\n",
    "    def test_add_cars_(self):\n",
    "        system = CarRentalSystem()\n",
    "        num_cars = 10000\n",
    "        start_time = time.time()\n",
    "        for i in range(num_cars):\n",
    "            system.add_car(Car(i, f\"Model {i}\", 50))\n",
    "        end_time = time.time()\n",
    "        elapsed = end_time - start_time\n",
    "        self.assertLess(elapsed, 1, f\"Adding {num_cars} cars took too long: {elapsed:.2f} seconds\")"
   ]
  },
  {
   "cell_type": "markdown",
   "metadata": {},
   "source": [
    "### F =  → Stress Test"
   ]
  },
  {
   "cell_type": "code",
   "execution_count": 37,
   "metadata": {},
   "outputs": [],
   "source": [
    "class TestF(unittest.TestCase):\n",
    "    def test_rent_return_(self):\n",
    "        system = CarRentalSystem()\n",
    "        num_cars = 5000\n",
    "        for i in range(num_cars):\n",
    "            system.add_car(Car(i, f\"Model {i}\", 50))\n",
    "        for i in range(num_cars):\n",
    "            system.rent_car(i)\n",
    "        self.assertEqual(len(system.available_cars()), 0)\n",
    "        for i in range(num_cars):\n",
    "            system.return_car(i)\n",
    "        self.assertEqual(len(system.available_cars()), num_cars)"
   ]
  },
  {
   "cell_type": "code",
   "execution_count": 38,
   "metadata": {},
   "outputs": [
    {
     "name": "stderr",
     "output_type": "stream",
     "text": [
      "...............\n",
      "----------------------------------------------------------------------\n",
      "Ran 15 tests in 0.027s\n",
      "\n",
      "OK\n"
     ]
    }
   ],
   "source": [
    "# Run the tests using unittest in Jupyter Notebook\n",
    "def run_tests():\n",
    "    # Create a test suite and add the test cases\n",
    "    suite = unittest.TestLoader().loadTestsFromTestCase(TestF)\n",
    "\n",
    "    # TestA\n",
    "    suite.addTest(unittest.TestLoader().loadTestsFromTestCase(TestCar))\n",
    "    suite.addTest(unittest.TestLoader().loadTestsFromTestCase(TestCarRentalSystem))\n",
    "\n",
    "    suite.addTest(unittest.TestLoader().loadTestsFromTestCase(TestB))\n",
    "    suite.addTest(unittest.TestLoader().loadTestsFromTestCase(TestC))\n",
    "    suite.addTest(unittest.TestLoader().loadTestsFromTestCase(TestD))\n",
    "    suite.addTest(unittest.TestLoader().loadTestsFromTestCase(TestE))\n",
    "    suite.addTest(unittest.TestLoader().loadTestsFromTestCase(TestF))\n",
    "    \n",
    "    # Run the test suite\n",
    "    runner = unittest.TextTestRunner()\n",
    "    runner.run(suite)\n",
    "\n",
    "# Call the function to run the tests\n",
    "run_tests()"
   ]
  }
 ],
 "metadata": {
  "kernelspec": {
   "display_name": "Python 3",
   "language": "python",
   "name": "python3"
  },
  "language_info": {
   "codemirror_mode": {
    "name": "ipython",
    "version": 3
   },
   "file_extension": ".py",
   "mimetype": "text/x-python",
   "name": "python",
   "nbconvert_exporter": "python",
   "pygments_lexer": "ipython3",
   "version": "3.13.2"
  }
 },
 "nbformat": 4,
 "nbformat_minor": 2
}
